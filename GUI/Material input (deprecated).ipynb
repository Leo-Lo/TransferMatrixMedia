{
 "cells": [
  {
   "cell_type": "markdown",
   "metadata": {
    "toc": true
   },
   "source": [
    "<h1>Table of Contents<span class=\"tocSkip\"></span></h1>\n",
    "<div class=\"toc\"><ul class=\"toc-item\"><li><span><a href=\"#Imports-and-settings\" data-toc-modified-id=\"Imports-and-settings-1\">Imports and settings</a></span></li><li><span><a href=\"#Table\" data-toc-modified-id=\"Table-2\">Table</a></span><ul class=\"toc-item\"><li><span><a href=\"#Example\" data-toc-modified-id=\"Example-2.1\">Example</a></span></li><li><span><a href=\"#Table-for-list\" data-toc-modified-id=\"Table-for-list-2.2\">Table for list</a></span></li><li><span><a href=\"#Updating-table\" data-toc-modified-id=\"Updating-table-2.3\">Updating table</a></span></li></ul></li><li><span><a href=\"#Changing-bokeh-widgets\" data-toc-modified-id=\"Changing-bokeh-widgets-3\">Changing bokeh widgets</a></span><ul class=\"toc-item\"><li><span><a href=\"#Example\" data-toc-modified-id=\"Example-3.1\">Example</a></span></li><li><span><a href=\"#2D,3D-complete\" data-toc-modified-id=\"2D,3D-complete-3.2\">2D,3D complete</a></span></li></ul></li><li><span><a href=\"#Processed-data\" data-toc-modified-id=\"Processed-data-4\">Processed data</a></span></li></ul></div>"
   ]
  },
  {
   "cell_type": "markdown",
   "metadata": {},
   "source": [
    "# Imports and settings"
   ]
  },
  {
   "cell_type": "code",
   "execution_count": 17,
   "metadata": {},
   "outputs": [
    {
     "data": {
      "text/html": [
       "\n",
       "    <div class=\"bk-root\">\n",
       "        <a href=\"https://bokeh.pydata.org\" target=\"_blank\" class=\"bk-logo bk-logo-small bk-logo-notebook\"></a>\n",
       "        <span id=\"6fe17de8-ca4f-4130-b6d3-b546747a5c79\">Loading BokehJS ...</span>\n",
       "    </div>"
      ]
     },
     "metadata": {},
     "output_type": "display_data"
    },
    {
     "data": {
      "application/javascript": [
       "\n",
       "(function(root) {\n",
       "  function now() {\n",
       "    return new Date();\n",
       "  }\n",
       "\n",
       "  var force = true;\n",
       "\n",
       "  if (typeof (root._bokeh_onload_callbacks) === \"undefined\" || force === true) {\n",
       "    root._bokeh_onload_callbacks = [];\n",
       "    root._bokeh_is_loading = undefined;\n",
       "  }\n",
       "\n",
       "  var JS_MIME_TYPE = 'application/javascript';\n",
       "  var HTML_MIME_TYPE = 'text/html';\n",
       "  var EXEC_MIME_TYPE = 'application/vnd.bokehjs_exec.v0+json';\n",
       "  var CLASS_NAME = 'output_bokeh rendered_html';\n",
       "\n",
       "  /**\n",
       "   * Render data to the DOM node\n",
       "   */\n",
       "  function render(props, node) {\n",
       "    var script = document.createElement(\"script\");\n",
       "    node.appendChild(script);\n",
       "  }\n",
       "\n",
       "  /**\n",
       "   * Handle when an output is cleared or removed\n",
       "   */\n",
       "  function handleClearOutput(event, handle) {\n",
       "    var cell = handle.cell;\n",
       "\n",
       "    var id = cell.output_area._bokeh_element_id;\n",
       "    var server_id = cell.output_area._bokeh_server_id;\n",
       "    // Clean up Bokeh references\n",
       "    if (id !== undefined) {\n",
       "      Bokeh.index[id].model.document.clear();\n",
       "      delete Bokeh.index[id];\n",
       "    }\n",
       "\n",
       "    if (server_id !== undefined) {\n",
       "      // Clean up Bokeh references\n",
       "      var cmd = \"from bokeh.io.state import curstate; print(curstate().uuid_to_server['\" + server_id + \"'].get_sessions()[0].document.roots[0]._id)\";\n",
       "      cell.notebook.kernel.execute(cmd, {\n",
       "        iopub: {\n",
       "          output: function(msg) {\n",
       "            var element_id = msg.content.text.trim();\n",
       "            Bokeh.index[element_id].model.document.clear();\n",
       "            delete Bokeh.index[element_id];\n",
       "          }\n",
       "        }\n",
       "      });\n",
       "      // Destroy server and session\n",
       "      var cmd = \"import bokeh.io.notebook as ion; ion.destroy_server('\" + server_id + \"')\";\n",
       "      cell.notebook.kernel.execute(cmd);\n",
       "    }\n",
       "  }\n",
       "\n",
       "  /**\n",
       "   * Handle when a new output is added\n",
       "   */\n",
       "  function handleAddOutput(event, handle) {\n",
       "    var output_area = handle.output_area;\n",
       "    var output = handle.output;\n",
       "\n",
       "    // limit handleAddOutput to display_data with EXEC_MIME_TYPE content only\n",
       "    if ((output.output_type != \"display_data\") || (!output.data.hasOwnProperty(EXEC_MIME_TYPE))) {\n",
       "      return\n",
       "    }\n",
       "\n",
       "    var toinsert = output_area.element.find(\".\" + CLASS_NAME.split(' ')[0]);\n",
       "\n",
       "    if (output.metadata[EXEC_MIME_TYPE][\"id\"] !== undefined) {\n",
       "      toinsert[toinsert.length - 1].firstChild.textContent = output.data[JS_MIME_TYPE];\n",
       "      // store reference to embed id on output_area\n",
       "      output_area._bokeh_element_id = output.metadata[EXEC_MIME_TYPE][\"id\"];\n",
       "    }\n",
       "    if (output.metadata[EXEC_MIME_TYPE][\"server_id\"] !== undefined) {\n",
       "      var bk_div = document.createElement(\"div\");\n",
       "      bk_div.innerHTML = output.data[HTML_MIME_TYPE];\n",
       "      var script_attrs = bk_div.children[0].attributes;\n",
       "      for (var i = 0; i < script_attrs.length; i++) {\n",
       "        toinsert[toinsert.length - 1].firstChild.setAttribute(script_attrs[i].name, script_attrs[i].value);\n",
       "      }\n",
       "      // store reference to server id on output_area\n",
       "      output_area._bokeh_server_id = output.metadata[EXEC_MIME_TYPE][\"server_id\"];\n",
       "    }\n",
       "  }\n",
       "\n",
       "  function register_renderer(events, OutputArea) {\n",
       "\n",
       "    function append_mime(data, metadata, element) {\n",
       "      // create a DOM node to render to\n",
       "      var toinsert = this.create_output_subarea(\n",
       "        metadata,\n",
       "        CLASS_NAME,\n",
       "        EXEC_MIME_TYPE\n",
       "      );\n",
       "      this.keyboard_manager.register_events(toinsert);\n",
       "      // Render to node\n",
       "      var props = {data: data, metadata: metadata[EXEC_MIME_TYPE]};\n",
       "      render(props, toinsert[toinsert.length - 1]);\n",
       "      element.append(toinsert);\n",
       "      return toinsert\n",
       "    }\n",
       "\n",
       "    /* Handle when an output is cleared or removed */\n",
       "    events.on('clear_output.CodeCell', handleClearOutput);\n",
       "    events.on('delete.Cell', handleClearOutput);\n",
       "\n",
       "    /* Handle when a new output is added */\n",
       "    events.on('output_added.OutputArea', handleAddOutput);\n",
       "\n",
       "    /**\n",
       "     * Register the mime type and append_mime function with output_area\n",
       "     */\n",
       "    OutputArea.prototype.register_mime_type(EXEC_MIME_TYPE, append_mime, {\n",
       "      /* Is output safe? */\n",
       "      safe: true,\n",
       "      /* Index of renderer in `output_area.display_order` */\n",
       "      index: 0\n",
       "    });\n",
       "  }\n",
       "\n",
       "  // register the mime type if in Jupyter Notebook environment and previously unregistered\n",
       "  if (root.Jupyter !== undefined) {\n",
       "    var events = require('base/js/events');\n",
       "    var OutputArea = require('notebook/js/outputarea').OutputArea;\n",
       "\n",
       "    if (OutputArea.prototype.mime_types().indexOf(EXEC_MIME_TYPE) == -1) {\n",
       "      register_renderer(events, OutputArea);\n",
       "    }\n",
       "  }\n",
       "\n",
       "  \n",
       "  if (typeof (root._bokeh_timeout) === \"undefined\" || force === true) {\n",
       "    root._bokeh_timeout = Date.now() + 5000;\n",
       "    root._bokeh_failed_load = false;\n",
       "  }\n",
       "\n",
       "  var NB_LOAD_WARNING = {'data': {'text/html':\n",
       "     \"<div style='background-color: #fdd'>\\n\"+\n",
       "     \"<p>\\n\"+\n",
       "     \"BokehJS does not appear to have successfully loaded. If loading BokehJS from CDN, this \\n\"+\n",
       "     \"may be due to a slow or bad network connection. Possible fixes:\\n\"+\n",
       "     \"</p>\\n\"+\n",
       "     \"<ul>\\n\"+\n",
       "     \"<li>re-rerun `output_notebook()` to attempt to load from CDN again, or</li>\\n\"+\n",
       "     \"<li>use INLINE resources instead, as so:</li>\\n\"+\n",
       "     \"</ul>\\n\"+\n",
       "     \"<code>\\n\"+\n",
       "     \"from bokeh.resources import INLINE\\n\"+\n",
       "     \"output_notebook(resources=INLINE)\\n\"+\n",
       "     \"</code>\\n\"+\n",
       "     \"</div>\"}};\n",
       "\n",
       "  function display_loaded() {\n",
       "    var el = document.getElementById(\"6fe17de8-ca4f-4130-b6d3-b546747a5c79\");\n",
       "    if (el != null) {\n",
       "      el.textContent = \"BokehJS is loading...\";\n",
       "    }\n",
       "    if (root.Bokeh !== undefined) {\n",
       "      if (el != null) {\n",
       "        el.textContent = \"BokehJS \" + root.Bokeh.version + \" successfully loaded.\";\n",
       "      }\n",
       "    } else if (Date.now() < root._bokeh_timeout) {\n",
       "      setTimeout(display_loaded, 100)\n",
       "    }\n",
       "  }\n",
       "\n",
       "\n",
       "  function run_callbacks() {\n",
       "    try {\n",
       "      root._bokeh_onload_callbacks.forEach(function(callback) { callback() });\n",
       "    }\n",
       "    finally {\n",
       "      delete root._bokeh_onload_callbacks\n",
       "    }\n",
       "    console.info(\"Bokeh: all callbacks have finished\");\n",
       "  }\n",
       "\n",
       "  function load_libs(js_urls, callback) {\n",
       "    root._bokeh_onload_callbacks.push(callback);\n",
       "    if (root._bokeh_is_loading > 0) {\n",
       "      console.log(\"Bokeh: BokehJS is being loaded, scheduling callback at\", now());\n",
       "      return null;\n",
       "    }\n",
       "    if (js_urls == null || js_urls.length === 0) {\n",
       "      run_callbacks();\n",
       "      return null;\n",
       "    }\n",
       "    console.log(\"Bokeh: BokehJS not loaded, scheduling load and callback at\", now());\n",
       "    root._bokeh_is_loading = js_urls.length;\n",
       "    for (var i = 0; i < js_urls.length; i++) {\n",
       "      var url = js_urls[i];\n",
       "      var s = document.createElement('script');\n",
       "      s.src = url;\n",
       "      s.async = false;\n",
       "      s.onreadystatechange = s.onload = function() {\n",
       "        root._bokeh_is_loading--;\n",
       "        if (root._bokeh_is_loading === 0) {\n",
       "          console.log(\"Bokeh: all BokehJS libraries loaded\");\n",
       "          run_callbacks()\n",
       "        }\n",
       "      };\n",
       "      s.onerror = function() {\n",
       "        console.warn(\"failed to load library \" + url);\n",
       "      };\n",
       "      console.log(\"Bokeh: injecting script tag for BokehJS library: \", url);\n",
       "      document.getElementsByTagName(\"head\")[0].appendChild(s);\n",
       "    }\n",
       "  };var element = document.getElementById(\"6fe17de8-ca4f-4130-b6d3-b546747a5c79\");\n",
       "  if (element == null) {\n",
       "    console.log(\"Bokeh: ERROR: autoload.js configured with elementid '6fe17de8-ca4f-4130-b6d3-b546747a5c79' but no matching script tag was found. \")\n",
       "    return false;\n",
       "  }\n",
       "\n",
       "  var js_urls = [\"https://cdn.pydata.org/bokeh/release/bokeh-0.12.16.min.js\", \"https://cdn.pydata.org/bokeh/release/bokeh-widgets-0.12.16.min.js\", \"https://cdn.pydata.org/bokeh/release/bokeh-tables-0.12.16.min.js\", \"https://cdn.pydata.org/bokeh/release/bokeh-gl-0.12.16.min.js\"];\n",
       "\n",
       "  var inline_js = [\n",
       "    function(Bokeh) {\n",
       "      Bokeh.set_log_level(\"info\");\n",
       "    },\n",
       "    \n",
       "    function(Bokeh) {\n",
       "      \n",
       "    },\n",
       "    function(Bokeh) {\n",
       "      console.log(\"Bokeh: injecting CSS: https://cdn.pydata.org/bokeh/release/bokeh-0.12.16.min.css\");\n",
       "      Bokeh.embed.inject_css(\"https://cdn.pydata.org/bokeh/release/bokeh-0.12.16.min.css\");\n",
       "      console.log(\"Bokeh: injecting CSS: https://cdn.pydata.org/bokeh/release/bokeh-widgets-0.12.16.min.css\");\n",
       "      Bokeh.embed.inject_css(\"https://cdn.pydata.org/bokeh/release/bokeh-widgets-0.12.16.min.css\");\n",
       "      console.log(\"Bokeh: injecting CSS: https://cdn.pydata.org/bokeh/release/bokeh-tables-0.12.16.min.css\");\n",
       "      Bokeh.embed.inject_css(\"https://cdn.pydata.org/bokeh/release/bokeh-tables-0.12.16.min.css\");\n",
       "    }\n",
       "  ];\n",
       "\n",
       "  function run_inline_js() {\n",
       "    \n",
       "    if ((root.Bokeh !== undefined) || (force === true)) {\n",
       "      for (var i = 0; i < inline_js.length; i++) {\n",
       "        inline_js[i].call(root, root.Bokeh);\n",
       "      }if (force === true) {\n",
       "        display_loaded();\n",
       "      }} else if (Date.now() < root._bokeh_timeout) {\n",
       "      setTimeout(run_inline_js, 100);\n",
       "    } else if (!root._bokeh_failed_load) {\n",
       "      console.log(\"Bokeh: BokehJS failed to load within specified timeout.\");\n",
       "      root._bokeh_failed_load = true;\n",
       "    } else if (force !== true) {\n",
       "      var cell = $(document.getElementById(\"6fe17de8-ca4f-4130-b6d3-b546747a5c79\")).parents('.cell').data().cell;\n",
       "      cell.output_area.append_execute_result(NB_LOAD_WARNING)\n",
       "    }\n",
       "\n",
       "  }\n",
       "\n",
       "  if (root._bokeh_is_loading === 0) {\n",
       "    console.log(\"Bokeh: BokehJS loaded, going straight to plotting\");\n",
       "    run_inline_js();\n",
       "  } else {\n",
       "    load_libs(js_urls, function() {\n",
       "      console.log(\"Bokeh: BokehJS plotting callback run at\", now());\n",
       "      run_inline_js();\n",
       "    });\n",
       "  }\n",
       "}(window));"
      ],
      "application/vnd.bokehjs_load.v0+json": "\n(function(root) {\n  function now() {\n    return new Date();\n  }\n\n  var force = true;\n\n  if (typeof (root._bokeh_onload_callbacks) === \"undefined\" || force === true) {\n    root._bokeh_onload_callbacks = [];\n    root._bokeh_is_loading = undefined;\n  }\n\n  \n\n  \n  if (typeof (root._bokeh_timeout) === \"undefined\" || force === true) {\n    root._bokeh_timeout = Date.now() + 5000;\n    root._bokeh_failed_load = false;\n  }\n\n  var NB_LOAD_WARNING = {'data': {'text/html':\n     \"<div style='background-color: #fdd'>\\n\"+\n     \"<p>\\n\"+\n     \"BokehJS does not appear to have successfully loaded. If loading BokehJS from CDN, this \\n\"+\n     \"may be due to a slow or bad network connection. Possible fixes:\\n\"+\n     \"</p>\\n\"+\n     \"<ul>\\n\"+\n     \"<li>re-rerun `output_notebook()` to attempt to load from CDN again, or</li>\\n\"+\n     \"<li>use INLINE resources instead, as so:</li>\\n\"+\n     \"</ul>\\n\"+\n     \"<code>\\n\"+\n     \"from bokeh.resources import INLINE\\n\"+\n     \"output_notebook(resources=INLINE)\\n\"+\n     \"</code>\\n\"+\n     \"</div>\"}};\n\n  function display_loaded() {\n    var el = document.getElementById(\"6fe17de8-ca4f-4130-b6d3-b546747a5c79\");\n    if (el != null) {\n      el.textContent = \"BokehJS is loading...\";\n    }\n    if (root.Bokeh !== undefined) {\n      if (el != null) {\n        el.textContent = \"BokehJS \" + root.Bokeh.version + \" successfully loaded.\";\n      }\n    } else if (Date.now() < root._bokeh_timeout) {\n      setTimeout(display_loaded, 100)\n    }\n  }\n\n\n  function run_callbacks() {\n    try {\n      root._bokeh_onload_callbacks.forEach(function(callback) { callback() });\n    }\n    finally {\n      delete root._bokeh_onload_callbacks\n    }\n    console.info(\"Bokeh: all callbacks have finished\");\n  }\n\n  function load_libs(js_urls, callback) {\n    root._bokeh_onload_callbacks.push(callback);\n    if (root._bokeh_is_loading > 0) {\n      console.log(\"Bokeh: BokehJS is being loaded, scheduling callback at\", now());\n      return null;\n    }\n    if (js_urls == null || js_urls.length === 0) {\n      run_callbacks();\n      return null;\n    }\n    console.log(\"Bokeh: BokehJS not loaded, scheduling load and callback at\", now());\n    root._bokeh_is_loading = js_urls.length;\n    for (var i = 0; i < js_urls.length; i++) {\n      var url = js_urls[i];\n      var s = document.createElement('script');\n      s.src = url;\n      s.async = false;\n      s.onreadystatechange = s.onload = function() {\n        root._bokeh_is_loading--;\n        if (root._bokeh_is_loading === 0) {\n          console.log(\"Bokeh: all BokehJS libraries loaded\");\n          run_callbacks()\n        }\n      };\n      s.onerror = function() {\n        console.warn(\"failed to load library \" + url);\n      };\n      console.log(\"Bokeh: injecting script tag for BokehJS library: \", url);\n      document.getElementsByTagName(\"head\")[0].appendChild(s);\n    }\n  };var element = document.getElementById(\"6fe17de8-ca4f-4130-b6d3-b546747a5c79\");\n  if (element == null) {\n    console.log(\"Bokeh: ERROR: autoload.js configured with elementid '6fe17de8-ca4f-4130-b6d3-b546747a5c79' but no matching script tag was found. \")\n    return false;\n  }\n\n  var js_urls = [\"https://cdn.pydata.org/bokeh/release/bokeh-0.12.16.min.js\", \"https://cdn.pydata.org/bokeh/release/bokeh-widgets-0.12.16.min.js\", \"https://cdn.pydata.org/bokeh/release/bokeh-tables-0.12.16.min.js\", \"https://cdn.pydata.org/bokeh/release/bokeh-gl-0.12.16.min.js\"];\n\n  var inline_js = [\n    function(Bokeh) {\n      Bokeh.set_log_level(\"info\");\n    },\n    \n    function(Bokeh) {\n      \n    },\n    function(Bokeh) {\n      console.log(\"Bokeh: injecting CSS: https://cdn.pydata.org/bokeh/release/bokeh-0.12.16.min.css\");\n      Bokeh.embed.inject_css(\"https://cdn.pydata.org/bokeh/release/bokeh-0.12.16.min.css\");\n      console.log(\"Bokeh: injecting CSS: https://cdn.pydata.org/bokeh/release/bokeh-widgets-0.12.16.min.css\");\n      Bokeh.embed.inject_css(\"https://cdn.pydata.org/bokeh/release/bokeh-widgets-0.12.16.min.css\");\n      console.log(\"Bokeh: injecting CSS: https://cdn.pydata.org/bokeh/release/bokeh-tables-0.12.16.min.css\");\n      Bokeh.embed.inject_css(\"https://cdn.pydata.org/bokeh/release/bokeh-tables-0.12.16.min.css\");\n    }\n  ];\n\n  function run_inline_js() {\n    \n    if ((root.Bokeh !== undefined) || (force === true)) {\n      for (var i = 0; i < inline_js.length; i++) {\n        inline_js[i].call(root, root.Bokeh);\n      }if (force === true) {\n        display_loaded();\n      }} else if (Date.now() < root._bokeh_timeout) {\n      setTimeout(run_inline_js, 100);\n    } else if (!root._bokeh_failed_load) {\n      console.log(\"Bokeh: BokehJS failed to load within specified timeout.\");\n      root._bokeh_failed_load = true;\n    } else if (force !== true) {\n      var cell = $(document.getElementById(\"6fe17de8-ca4f-4130-b6d3-b546747a5c79\")).parents('.cell').data().cell;\n      cell.output_area.append_execute_result(NB_LOAD_WARNING)\n    }\n\n  }\n\n  if (root._bokeh_is_loading === 0) {\n    console.log(\"Bokeh: BokehJS loaded, going straight to plotting\");\n    run_inline_js();\n  } else {\n    load_libs(js_urls, function() {\n      console.log(\"Bokeh: BokehJS plotting callback run at\", now());\n      run_inline_js();\n    });\n  }\n}(window));"
     },
     "metadata": {},
     "output_type": "display_data"
    }
   ],
   "source": [
    "from bokeh.io import *\n",
    "from bokeh.layouts import *\n",
    "from bokeh.plotting import *\n",
    "from bokeh.models.renderers import *\n",
    "from bokeh.palettes import *\n",
    "from bokeh.models.widgets import *\n",
    "from bokeh.models import *\n",
    "from bokeh import events\n",
    "\n",
    "from NearFieldOptics.Materials import *\n",
    "from NearFieldOptics import TipModels as T\n",
    "import copy\n",
    "import numpy as np\n",
    "from matplotlib import pyplot as plt\n",
    "\n",
    "output_notebook()\n",
    "# output_file(\"new GUI layout.html\")"
   ]
  },
  {
   "cell_type": "code",
   "execution_count": 2,
   "metadata": {},
   "outputs": [],
   "source": [
    "from datetime import date\n",
    "from random import randint"
   ]
  },
  {
   "cell_type": "markdown",
   "metadata": {},
   "source": [
    "# Table"
   ]
  },
  {
   "cell_type": "markdown",
   "metadata": {},
   "source": [
    "## Example"
   ]
  },
  {
   "cell_type": "code",
   "execution_count": 3,
   "metadata": {},
   "outputs": [
    {
     "data": {
      "text/html": [
       "\n",
       "<div class=\"bk-root\">\n",
       "    <div class=\"bk-plotdiv\" id=\"1d1d274d-f430-4378-baad-5c48585ca63e\"></div>\n",
       "</div>"
      ]
     },
     "metadata": {},
     "output_type": "display_data"
    },
    {
     "data": {
      "application/javascript": [
       "(function(root) {\n",
       "  function embed_document(root) {\n",
       "    \n",
       "  var docs_json = {\"930b390b-786b-41b7-b160-33bccc1eb552\":{\"roots\":{\"references\":[{\"attributes\":{\"editor\":{\"id\":\"3e380de3-e59f-4a74-b005-30a359ee8fc0\",\"type\":\"StringEditor\"},\"field\":\"thickness\",\"formatter\":{\"id\":\"5f094e58-99f3-4d05-946c-bf6724dac5c0\",\"type\":\"StringFormatter\"},\"title\":\"thickness (nm)\"},\"id\":\"ee4ecb09-3b19-49dd-b275-54be342e860b\",\"type\":\"TableColumn\"},{\"attributes\":{\"callback\":null,\"data\":{\"material\":[1393632000000.0,1393718400000.0,1393804800000.0,1393891200000.0,1393977600000.0,1394064000000.0,1394150400000.0,1394236800000.0,1394323200000.0,1394409600000.0],\"thickness\":[80,28,91,52,21,56,100,64,48,8]},\"selected\":{\"id\":\"351ec58d-b7c4-4b53-8329-5949a560cf7e\",\"type\":\"Selection\"},\"selection_policy\":{\"id\":\"022e5b39-26a3-4435-9405-62af6d25ab98\",\"type\":\"UnionRenderers\"}},\"id\":\"a2b3ae37-94f0-499f-aaa3-5bb09ee11641\",\"type\":\"ColumnDataSource\"},{\"attributes\":{\"button_type\":\"success\",\"callback\":null,\"icon\":null,\"label\":\"Add!\"},\"id\":\"338a831f-dca2-4d85-8aea-79c04830be68\",\"type\":\"Button\"},{\"attributes\":{},\"id\":\"bcc0cc4d-e227-4f3d-8c31-3900fda6eb73\",\"type\":\"DateFormatter\"},{\"attributes\":{},\"id\":\"1f3a409a-0882-4af1-86eb-d68720babd90\",\"type\":\"StringEditor\"},{\"attributes\":{},\"id\":\"5f094e58-99f3-4d05-946c-bf6724dac5c0\",\"type\":\"StringFormatter\"},{\"attributes\":{},\"id\":\"3e380de3-e59f-4a74-b005-30a359ee8fc0\",\"type\":\"StringEditor\"},{\"attributes\":{\"children\":[{\"id\":\"3f3bcf21-4f81-473d-8f83-5f9fa064e749\",\"type\":\"DataTable\"},{\"id\":\"338a831f-dca2-4d85-8aea-79c04830be68\",\"type\":\"Button\"}]},\"id\":\"75cc0a76-ac69-44d7-a088-b0652eea41d4\",\"type\":\"WidgetBox\"},{\"attributes\":{},\"id\":\"022e5b39-26a3-4435-9405-62af6d25ab98\",\"type\":\"UnionRenderers\"},{\"attributes\":{\"source\":{\"id\":\"a2b3ae37-94f0-499f-aaa3-5bb09ee11641\",\"type\":\"ColumnDataSource\"}},\"id\":\"3e1d0462-cc31-4161-99e7-6e9695af687c\",\"type\":\"CDSView\"},{\"attributes\":{\"editor\":{\"id\":\"1f3a409a-0882-4af1-86eb-d68720babd90\",\"type\":\"StringEditor\"},\"field\":\"material\",\"formatter\":{\"id\":\"bcc0cc4d-e227-4f3d-8c31-3900fda6eb73\",\"type\":\"DateFormatter\"},\"title\":\"Material\"},\"id\":\"016ba615-5625-4da7-87d1-0d2240b85704\",\"type\":\"TableColumn\"},{\"attributes\":{\"columns\":[{\"id\":\"016ba615-5625-4da7-87d1-0d2240b85704\",\"type\":\"TableColumn\"},{\"id\":\"ee4ecb09-3b19-49dd-b275-54be342e860b\",\"type\":\"TableColumn\"}],\"height\":280,\"source\":{\"id\":\"a2b3ae37-94f0-499f-aaa3-5bb09ee11641\",\"type\":\"ColumnDataSource\"},\"view\":{\"id\":\"3e1d0462-cc31-4161-99e7-6e9695af687c\",\"type\":\"CDSView\"},\"width\":400},\"id\":\"3f3bcf21-4f81-473d-8f83-5f9fa064e749\",\"type\":\"DataTable\"},{\"attributes\":{},\"id\":\"351ec58d-b7c4-4b53-8329-5949a560cf7e\",\"type\":\"Selection\"}],\"root_ids\":[\"75cc0a76-ac69-44d7-a088-b0652eea41d4\"]},\"title\":\"Bokeh Application\",\"version\":\"0.12.16\"}};\n",
       "  var render_items = [{\"docid\":\"930b390b-786b-41b7-b160-33bccc1eb552\",\"elementid\":\"1d1d274d-f430-4378-baad-5c48585ca63e\",\"modelid\":\"75cc0a76-ac69-44d7-a088-b0652eea41d4\"}];\n",
       "  root.Bokeh.embed.embed_items_notebook(docs_json, render_items);\n",
       "\n",
       "  }\n",
       "  if (root.Bokeh !== undefined) {\n",
       "    embed_document(root);\n",
       "  } else {\n",
       "    var attempts = 0;\n",
       "    var timer = setInterval(function(root) {\n",
       "      if (root.Bokeh !== undefined) {\n",
       "        embed_document(root);\n",
       "        clearInterval(timer);\n",
       "      }\n",
       "      attempts++;\n",
       "      if (attempts > 100) {\n",
       "        console.log(\"Bokeh: ERROR: Unable to run BokehJS code because BokehJS library is missing\")\n",
       "        clearInterval(timer);\n",
       "      }\n",
       "    }, 10, root)\n",
       "  }\n",
       "})(window);"
      ],
      "application/vnd.bokehjs_exec.v0+json": ""
     },
     "metadata": {
      "application/vnd.bokehjs_exec.v0+json": {
       "id": "75cc0a76-ac69-44d7-a088-b0652eea41d4"
      }
     },
     "output_type": "display_data"
    }
   ],
   "source": [
    "data = dict(\n",
    "        material=[date(2014, 3, i+1) for i in range(10)],\n",
    "        thickness=[randint(0, 100) for i in range(10)],\n",
    "    )\n",
    "source = ColumnDataSource(data)\n",
    "\n",
    "columns = [\n",
    "        TableColumn(field=\"material\", title=\"Material\", formatter=DateFormatter()),\n",
    "        TableColumn(field=\"thickness\", title=\"thickness (nm)\"),\n",
    "    ]\n",
    "data_table = DataTable(source=source, columns=columns, width=400, height=280)\n",
    "\n",
    "add = Button(label=\"Add!\", button_type=\"success\")\n",
    "\n",
    "show(WidgetBox(data_table,add))"
   ]
  },
  {
   "cell_type": "code",
   "execution_count": 4,
   "metadata": {},
   "outputs": [],
   "source": [
    "data = dict(\n",
    "        material=[date(2014, 3, i+1) for i in range(10)],\n",
    "        thickness=[randint(0, 100) for i in range(10)],\n",
    "    )"
   ]
  },
  {
   "cell_type": "code",
   "execution_count": 5,
   "metadata": {},
   "outputs": [
    {
     "data": {
      "text/plain": [
       "{'material': [datetime.date(2014, 3, 1),\n",
       "  datetime.date(2014, 3, 2),\n",
       "  datetime.date(2014, 3, 3),\n",
       "  datetime.date(2014, 3, 4),\n",
       "  datetime.date(2014, 3, 5),\n",
       "  datetime.date(2014, 3, 6),\n",
       "  datetime.date(2014, 3, 7),\n",
       "  datetime.date(2014, 3, 8),\n",
       "  datetime.date(2014, 3, 9),\n",
       "  datetime.date(2014, 3, 10)],\n",
       " 'thickness': [87, 97, 40, 91, 69, 40, 26, 30, 26, 5]}"
      ]
     },
     "execution_count": 5,
     "metadata": {},
     "output_type": "execute_result"
    }
   ],
   "source": [
    "data"
   ]
  },
  {
   "cell_type": "markdown",
   "metadata": {},
   "source": [
    "## Table for list"
   ]
  },
  {
   "cell_type": "code",
   "execution_count": 6,
   "metadata": {},
   "outputs": [
    {
     "data": {
      "text/html": [
       "\n",
       "<div class=\"bk-root\">\n",
       "    <div class=\"bk-plotdiv\" id=\"1b5e225d-2d53-41cf-9de5-a416f41469a3\"></div>\n",
       "</div>"
      ]
     },
     "metadata": {},
     "output_type": "display_data"
    },
    {
     "data": {
      "application/javascript": [
       "(function(root) {\n",
       "  function embed_document(root) {\n",
       "    \n",
       "  var docs_json = {\"dbdc4332-5548-43f1-b34c-fae1e34c746e\":{\"roots\":{\"references\":[{\"attributes\":{\"callback\":null,\"data\":{\"material\":[\"Si\",\"SiO2\"],\"thickness\":[30,15]},\"selected\":{\"id\":\"7787016d-3340-4569-9cc9-0c0c527b7376\",\"type\":\"Selection\"},\"selection_policy\":{\"id\":\"0ccaa543-930c-445f-a625-29557c18ab02\",\"type\":\"UnionRenderers\"}},\"id\":\"4159a612-8cd4-4a81-a119-9d9febd94ac1\",\"type\":\"ColumnDataSource\"},{\"attributes\":{\"source\":{\"id\":\"4159a612-8cd4-4a81-a119-9d9febd94ac1\",\"type\":\"ColumnDataSource\"}},\"id\":\"50cdb9b7-b453-46b8-b122-e5a1ba11d720\",\"type\":\"CDSView\"},{\"attributes\":{},\"id\":\"7787016d-3340-4569-9cc9-0c0c527b7376\",\"type\":\"Selection\"},{\"attributes\":{},\"id\":\"0ccaa543-930c-445f-a625-29557c18ab02\",\"type\":\"UnionRenderers\"},{\"attributes\":{},\"id\":\"2184c870-5c6b-4220-9a7a-94194a2b1d1d\",\"type\":\"StringEditor\"},{\"attributes\":{},\"id\":\"89f31cda-9557-4f7d-a04e-01d96bc89e5c\",\"type\":\"StringFormatter\"},{\"attributes\":{},\"id\":\"4a24fe31-0397-498b-a5aa-3c21e27f0e3f\",\"type\":\"StringEditor\"},{\"attributes\":{},\"id\":\"c75a2766-204b-4506-818b-1e482ded8775\",\"type\":\"StringFormatter\"},{\"attributes\":{\"editor\":{\"id\":\"2184c870-5c6b-4220-9a7a-94194a2b1d1d\",\"type\":\"StringEditor\"},\"field\":\"thickness\",\"formatter\":{\"id\":\"c75a2766-204b-4506-818b-1e482ded8775\",\"type\":\"StringFormatter\"},\"title\":\"thickness (nm)\"},\"id\":\"2afb85cd-3450-4895-9a4d-53f4269551db\",\"type\":\"TableColumn\"},{\"attributes\":{\"editor\":{\"id\":\"4a24fe31-0397-498b-a5aa-3c21e27f0e3f\",\"type\":\"StringEditor\"},\"field\":\"material\",\"formatter\":{\"id\":\"89f31cda-9557-4f7d-a04e-01d96bc89e5c\",\"type\":\"StringFormatter\"},\"title\":\"Material\"},\"id\":\"c8da3438-e11e-4797-873a-84cee61e44fa\",\"type\":\"TableColumn\"},{\"attributes\":{\"columns\":[{\"id\":\"c8da3438-e11e-4797-873a-84cee61e44fa\",\"type\":\"TableColumn\"},{\"id\":\"2afb85cd-3450-4895-9a4d-53f4269551db\",\"type\":\"TableColumn\"}],\"height\":280,\"source\":{\"id\":\"4159a612-8cd4-4a81-a119-9d9febd94ac1\",\"type\":\"ColumnDataSource\"},\"view\":{\"id\":\"50cdb9b7-b453-46b8-b122-e5a1ba11d720\",\"type\":\"CDSView\"},\"width\":400},\"id\":\"023f4403-f7ea-4d33-aa90-b7a3f54d07e2\",\"type\":\"DataTable\"}],\"root_ids\":[\"023f4403-f7ea-4d33-aa90-b7a3f54d07e2\"]},\"title\":\"Bokeh Application\",\"version\":\"0.12.16\"}};\n",
       "  var render_items = [{\"docid\":\"dbdc4332-5548-43f1-b34c-fae1e34c746e\",\"elementid\":\"1b5e225d-2d53-41cf-9de5-a416f41469a3\",\"modelid\":\"023f4403-f7ea-4d33-aa90-b7a3f54d07e2\"}];\n",
       "  root.Bokeh.embed.embed_items_notebook(docs_json, render_items);\n",
       "\n",
       "  }\n",
       "  if (root.Bokeh !== undefined) {\n",
       "    embed_document(root);\n",
       "  } else {\n",
       "    var attempts = 0;\n",
       "    var timer = setInterval(function(root) {\n",
       "      if (root.Bokeh !== undefined) {\n",
       "        embed_document(root);\n",
       "        clearInterval(timer);\n",
       "      }\n",
       "      attempts++;\n",
       "      if (attempts > 100) {\n",
       "        console.log(\"Bokeh: ERROR: Unable to run BokehJS code because BokehJS library is missing\")\n",
       "        clearInterval(timer);\n",
       "      }\n",
       "    }, 10, root)\n",
       "  }\n",
       "})(window);"
      ],
      "application/vnd.bokehjs_exec.v0+json": ""
     },
     "metadata": {
      "application/vnd.bokehjs_exec.v0+json": {
       "id": "023f4403-f7ea-4d33-aa90-b7a3f54d07e2"
      }
     },
     "output_type": "display_data"
    }
   ],
   "source": [
    "data = {}\n",
    "data[\"material\"] = ['Si','SiO2']\n",
    "data[\"thickness\"] = [30,15]\n",
    "source = ColumnDataSource(data)\n",
    "\n",
    "columns = [\n",
    "        TableColumn(field=\"material\", title=\"Material\"),\n",
    "        TableColumn(field=\"thickness\", title=\"thickness (nm)\"),\n",
    "    ]\n",
    "data_table = DataTable(source=source, columns=columns, width=400, height=280)\n",
    "\n",
    "show(data_table)"
   ]
  },
  {
   "cell_type": "markdown",
   "metadata": {},
   "source": [
    "## Updating table"
   ]
  },
  {
   "cell_type": "code",
   "execution_count": 11,
   "metadata": {
    "code_folding": []
   },
   "outputs": [
    {
     "data": {
      "application/vnd.bokehjs_exec.v0+json": "",
      "text/html": [
       "\n",
       "<script\n",
       "    src=\"http://localhost:49593/autoload.js?bokeh-autoload-element=a17056fc-001b-444d-9ce2-b2a31d518f80&bokeh-absolute-url=http://localhost:49593&resources=none\"\n",
       "    id=\"a17056fc-001b-444d-9ce2-b2a31d518f80\"\n",
       "    data-bokeh-model-id=\"\"\n",
       "    data-bokeh-doc-id=\"\"\n",
       "></script>"
      ]
     },
     "metadata": {
      "application/vnd.bokehjs_exec.v0+json": {
       "server_id": "aad5fa63c3994bfdb653d113a90c4ed0"
      }
     },
     "output_type": "display_data"
    }
   ],
   "source": [
    "# Starting bokeh server from here\n",
    "def modify_doc(doc):\n",
    "    import subprocess\n",
    "    import time\n",
    "    args = ['python', '-m', 'bokeh', 'serve']\n",
    "    p = subprocess.Popen(args) \n",
    "    time.sleep(1) # time to wait might be longer on other PC\n",
    "\n",
    "    def create_cds():\n",
    "        '''Create two different column data sources'''\n",
    "\n",
    "        data1 = dict(dates=[date(2014, 3, i+1) for i in range(10)],\n",
    "                     downloads=[randint(0, 100) for i in range(10)])\n",
    "        source1 = ColumnDataSource(data1)\n",
    "\n",
    "        data2 = dict(dates=[date(2017, 3, i+1) for i in range(15)],\n",
    "                     downloads=[randint(100, 200) for i in range(15)])\n",
    "        source2 = ColumnDataSource(data2)\n",
    "\n",
    "        return source1, source2\n",
    "\n",
    "    # defining initial CDS and initial table\n",
    "\n",
    "    source1, source2 = create_cds()\n",
    "\n",
    "    source = source1\n",
    "    columns = [TableColumn(field=\"dates\", title=\"Date\", formatter=DateFormatter()),\n",
    "               TableColumn(field=\"downloads\", title=\"Downloads\")]\n",
    "    data_table = DataTable(source=source, columns=columns, width=400, height=280)\n",
    "\n",
    "    # callback for RadioButtonGroup\n",
    "    def select_data(attr, old, new):\n",
    "        \n",
    "        source1, source2 = create_cds()\n",
    "\n",
    "        if new == 0: \n",
    "            source.data = source1.data\n",
    "        else: \n",
    "            source.data = source2.data\n",
    "\n",
    "        global data_table\n",
    "        data_table.update()\n",
    "\n",
    "    button = RadioButtonGroup(labels=[\"Option 0\", \"Option 1\"], active=0)\n",
    "    button.on_change('active', select_data)\n",
    "\n",
    "    mylayout = layout([[button], [data_table]])\n",
    "    doc.add_root(mylayout)\n",
    "    \n",
    "show(modify_doc)"
   ]
  },
  {
   "cell_type": "markdown",
   "metadata": {},
   "source": [
    "# Changing bokeh widgets"
   ]
  },
  {
   "cell_type": "markdown",
   "metadata": {
    "heading_collapsed": true
   },
   "source": [
    "## Example"
   ]
  },
  {
   "cell_type": "code",
   "execution_count": 8,
   "metadata": {
    "hidden": true
   },
   "outputs": [
    {
     "data": {
      "application/vnd.bokehjs_exec.v0+json": "",
      "text/html": [
       "\n",
       "<script\n",
       "    src=\"http://localhost:49225/autoload.js?bokeh-autoload-element=40a7d325-de16-471f-b8bf-7093196687eb&bokeh-absolute-url=http://localhost:49225&resources=none\"\n",
       "    id=\"40a7d325-de16-471f-b8bf-7093196687eb\"\n",
       "    data-bokeh-model-id=\"\"\n",
       "    data-bokeh-doc-id=\"\"\n",
       "></script>"
      ]
     },
     "metadata": {
      "application/vnd.bokehjs_exec.v0+json": {
       "server_id": "7a9c8a71fc4d47cda86b5098bf3c8c47"
      }
     },
     "output_type": "display_data"
    }
   ],
   "source": [
    "def modify_doc(doc):\n",
    "\n",
    "    start_button = Button(label=\"Start the experiment\") \n",
    "    stop_button = Button(label=\"Stop\", disabled=True)\n",
    "    m1_text = TextInput(title=\"mass of puck1 =\", value=\"570\")\n",
    "    spark_timer = Slider(value=0, start=0, end=100, step=1, title=\"Title\")\n",
    "\n",
    "    button_list = [\"Start_Button\",\"Stop_Button\",\"Mass_of_m1\",\"Spark\"]\n",
    "\n",
    "    button_call = Select(title=\"Button call\", options=sorted(button_list), value=\"Start_Button\",width=200)\n",
    "\n",
    "    select_code = \"\"\"\n",
    "    to_show = cb_obj.value;\n",
    "    options = cb_obj.options\n",
    "\n",
    "    for (i=0;i<options.length;i++) {\n",
    "        box = document.getElementsByClassName(options[i])[0];\n",
    "        if (!box.className.includes(\"hidden\")) {box.className+=\" hidden\";}\n",
    "        if (box.className.includes(to_show)) {box.className=box.className.replace(\" hidden\",\"\");}\n",
    "    }\n",
    "    \"\"\"\n",
    "\n",
    "    button_call.callback = CustomJS(code=select_code)\n",
    "\n",
    "    box_1 = widgetbox(start_button,css_classes = ['Start_Button'])\n",
    "    box_2 = widgetbox(stop_button,css_classes = ['Stop_Button','hidden'])\n",
    "    box_3 = widgetbox(m1_text,css_classes = ['Mass_of_m1','hidden'])\n",
    "    box_4 = widgetbox(spark_timer,css_classes = ['Spark','hidden'])\n",
    "\n",
    "\n",
    "    grid = gridplot([[button_call],[box_1,box_2,box_3,box_4]],toolbar_location=None)\n",
    "    doc.add_root(grid)\n",
    "    \n",
    "show(modify_doc)"
   ]
  },
  {
   "cell_type": "markdown",
   "metadata": {},
   "source": [
    "## 2D,3D complete"
   ]
  },
  {
   "cell_type": "code",
   "execution_count": 21,
   "metadata": {},
   "outputs": [],
   "source": [
    "def header():\n",
    "    text = Div(text=\"<h1><b>The Lightning Rod Model GUI</b></h1>\",width=400, height=30)\n",
    "    title = WidgetBox(text, width=400)\n",
    "\n",
    "    callback1 = CustomJS(code=\"alert('Don't drag away the logo!')\")\n",
    "    tap = TapTool(callback=callback1)\n",
    "    cu = figure(x_range=(0,6), y_range=(-3.5,0.2),width=250,height=60,toolbar_location=None, tools=[tap])\n",
    "    cu.outline_line_color = \"white\"\n",
    "    cu.image_url(url=['Columbia logo.png'], x=0, y=0.2,w=6, h=3.5)\n",
    "    cu.xgrid.grid_line_color = None\n",
    "    cu.ygrid.grid_line_color = None\n",
    "    cu.axis.visible = False\n",
    "\n",
    "    callback1 = CustomJS(code=\"alert('Don't drag away the logo!')\")\n",
    "    tap = TapTool(callback=callback1)\n",
    "    basov = figure(x_range=(0,6), y_range=(-3.5,0.2),width=150,height=60,toolbar_location=None, tools=[tap])\n",
    "    basov.outline_line_color = \"white\"\n",
    "    basov.image_url(url=['basov lab logo.png'], x=0, y=0.2,w=6, h=3.5)\n",
    "    basov.xgrid.grid_line_color = None\n",
    "    basov.ygrid.grid_line_color = None\n",
    "    basov.axis.visible = False\n",
    "    return [title,cu,basov]\n",
    "\n",
    "def space():\n",
    "    empty = Div(text=\"\",width=400, height=1)\n",
    "    space = WidgetBox(empty, width=400)\n",
    "    return [empty]"
   ]
  },
  {
   "cell_type": "code",
   "execution_count": 28,
   "metadata": {
    "code_folding": [
     52,
     61,
     81,
     98,
     119
    ],
    "scrolled": true
   },
   "outputs": [
    {
     "data": {
      "application/vnd.bokehjs_exec.v0+json": "",
      "text/html": [
       "\n",
       "<script\n",
       "    src=\"http://localhost:51873/autoload.js?bokeh-autoload-element=a7bec03d-11e3-4959-958a-0b47edfbe8f1&bokeh-absolute-url=http://localhost:51873&resources=none\"\n",
       "    id=\"a7bec03d-11e3-4959-958a-0b47edfbe8f1\"\n",
       "    data-bokeh-model-id=\"\"\n",
       "    data-bokeh-doc-id=\"\"\n",
       "></script>"
      ]
     },
     "metadata": {
      "application/vnd.bokehjs_exec.v0+json": {
       "server_id": "8f1c0b1430bb44ca85c3aa44486e286d"
      }
     },
     "output_type": "display_data"
    }
   ],
   "source": [
    "def modify_doc(doc):\n",
    "    \n",
    "    global layerList,computerLayerList,tabulatedData\n",
    "    tabulatedData = {}\n",
    "    layerList = []\n",
    "    computerLayerList = []\n",
    "    \n",
    "    material_list = [\"SiO2_300nm\",\"SingleLayerGraphene\",\"BN_Caldwell\",\"Si_80K\",\"Si_150K\",\"Si_300K\",\"FePO4\",\"TaS2_CCDW\",\"TaS2_NCCDW\",\"Silicon\",\"Air\"]\n",
    "    material_list_without_surface = copy.copy(material_list)\n",
    "    material_list_without_surface.remove(\"SingleLayerGraphene\")\n",
    "    \n",
    "    entranceMaterialMenu = Select(title=\"Entrance material:\", value=\"Air\", options=sorted(material_list))\n",
    "    exitMaterialMenu = Select(title=\"Exit material:\", value=\"Air\", options=sorted(material_list))\n",
    "    materialMenu = Select(title=\"Material\", options=sorted(material_list), value=\"SiO2_300nm\",width=200)\n",
    "    \n",
    "    thicknessText = TextInput(title=\"Thickness (nm):\", value=\"0\")\n",
    "    muText = TextInput(title=\"Chemical potential (cm-1):\", value=\"1000\")\n",
    "    gammaText = TextInput(title=\"Scattering rate ():\", value=\"0.1\")\n",
    "    \n",
    "    add = Button(label=\"Add\", button_type=\"primary\")\n",
    "    assemble = Button(label=\"ASSEMBLE!\", button_type=\"success\")\n",
    "    clear = Button(label=\"CLEAR ALL\", button_type=\"warning\")\n",
    "    \n",
    "    tabulatedData[\"material\"] = []\n",
    "    tabulatedData[\"thickness\"] = []\n",
    "    tabulatedData[\"mu\"] = []\n",
    "    tabulatedData[\"gamma\"] = []\n",
    "    \n",
    "    source1 = ColumnDataSource(tabulatedData)\n",
    "    source = source1\n",
    "    columns = [\n",
    "            TableColumn(field=\"material\", title=\"Material\"),\n",
    "            TableColumn(field=\"thickness\", title=\"thickness (nm)\"),\n",
    "            TableColumn(field=\"mu\", title=\"chemical potential (cm-1)\"),\n",
    "            TableColumn(field=\"gamma\", title=\"scatting rate ()\"),\n",
    "        ]\n",
    "    table = DataTable(source=source, columns=columns, width=700, height=280)\n",
    "    \n",
    "    select_code = \"\"\"\n",
    "    to_show = cb_obj.value;\n",
    "    options = cb_obj.options\n",
    "\n",
    "    for (i=0;i<options.length;i++) {\n",
    "        box = document.getElementsByClassName(options[i])[0];\n",
    "        if (!box.className.includes(\"hidden\")) {box.className+=\" hidden\";}\n",
    "        if (box.className.includes(to_show)) {box.className=box.className.replace(\" hidden\",\"\");}\n",
    "    }\n",
    "    \"\"\"\n",
    "    \n",
    "    materialMenu.callback = CustomJS(code=select_code)\n",
    "    \n",
    "    #Add a layer\n",
    "    def update_parameters():\n",
    "        \n",
    "        if materialMenu.value==\"SingleLayerGraphene\":\n",
    "            layerList.append((\"SingleLayerGraphene\",muText.value,gammaText.value))\n",
    "            tabulatedData[\"material\"].append(\"SingleLayerGraphene\")\n",
    "            tabulatedData[\"thickness\"].append(\"/\")\n",
    "            tabulatedData[\"mu\"].append(muText.value)\n",
    "            tabulatedData[\"gamma\"].append(gammaText.value)\n",
    "            \n",
    "        else:\n",
    "            layerList.append((materialMenu.value,float(thicknessText.value)))\n",
    "            tabulatedData[\"material\"].append(materialMenu.value)\n",
    "            tabulatedData[\"thickness\"].append(thicknessText.value)\n",
    "            tabulatedData[\"mu\"].append(\"/\")\n",
    "            tabulatedData[\"gamma\"].append(\"/\")\n",
    "        \n",
    "        columns = [\n",
    "                    TableColumn(field=\"material\", title=\"Material\"),\n",
    "                    TableColumn(field=\"thickness\", title=\"thickness (nm)\"),\n",
    "                    TableColumn(field=\"mu\", title=\"chemical potential (cm-1)\"),\n",
    "                    TableColumn(field=\"gamma\", title=\"scatting rate ()\")\n",
    "                  ]\n",
    "        \n",
    "        source1 = ColumnDataSource(tabulatedData)\n",
    "        source.data = source1.data\n",
    "        global table\n",
    "        table.update()\n",
    "    \n",
    "    #Assemble a LayeredMedia\n",
    "    def assemble_layered_media():\n",
    "        global entranceMaterial,exitMaterial\n",
    "        entranceMaterial = _get_computer_material_(entranceMaterialMenu.value)\n",
    "        exitMaterial = _get_computer_material_(exitMaterialMenu.value)\n",
    "        \n",
    "        for layer in layerList:\n",
    "            materialString = layer[0]\n",
    "            if materialString==\"SingleLayerGraphene\":\n",
    "                surface = SingleLayerGraphene(chemical_potential=layer[1],gamma=layer[2])\n",
    "                computerLayerList.append(surface)\n",
    "            else:\n",
    "                thickness = layer[1]*1e-7\n",
    "                if materialString=='Si_80K' or materialString=='Si_150K' or materialString=='Si_300K':\n",
    "                    computerLayer = TabulatedMaterialFromFile(materialString+'.csv')\n",
    "                else:\n",
    "                    computerLayer = _get_computer_material_(materialString)\n",
    "                computerLayerList.append((computerLayer,thickness))\n",
    "    def _get_computer_material_(matString):\n",
    "        \n",
    "        if matString == \"SiO2_300nm\":\n",
    "            return SiO2_300nm\n",
    "        elif matString == \"BN_Caldwell\":\n",
    "            return BN_Caldwell\n",
    "        elif matString == \"FePO4\":\n",
    "            return FePO4\n",
    "        elif matString == \"TaS2_CCDW\":\n",
    "            return TaS2_CCDW\n",
    "        elif matString == \"TaS2_NCCDW\":\n",
    "            return TaS2_NCCDW\n",
    "        elif matString == \"Si\":\n",
    "            return Si\n",
    "        elif matString == \"Air\":\n",
    "            return Air\n",
    "        else:\n",
    "            Logger.raiseException('Material not recognized.', exception=valueError)\n",
    "            return None\n",
    "            \n",
    "    #Clear all inputs and stored values\n",
    "    def clear_all():\n",
    "        layerList.clear()\n",
    "        computerLayerList.clear()\n",
    "        layerMedia = None\n",
    "        \n",
    "        tabulatedData[\"material\"] = []\n",
    "        tabulatedData[\"thickness\"] = []\n",
    "        columns = [\n",
    "            TableColumn(field=\"material\", title=\"Material\"),\n",
    "            TableColumn(field=\"thickness\", title=\"thickness (nm)\"),\n",
    "        ]\n",
    "        source1 = ColumnDataSource(tabulatedData)\n",
    "        source.data = source1.data\n",
    "        global table\n",
    "        table.update()\n",
    "    \n",
    "    add.on_click(update_parameters)\n",
    "    assemble.on_click(assemble_layered_media)\n",
    "    clear.on_click(clear_all)\n",
    "    \n",
    "    box0 = widgetbox(entranceMaterialMenu,exitMaterialMenu)\n",
    "    box01 = widgetbox(materialMenu)\n",
    "    box1 = widgetbox(muText,gammaText,css_classes = ['SingleLayerGraphene','hidden'])\n",
    "    box2 = widgetbox(thicknessText,css_classes = material_list_without_surface)\n",
    "    box3 = widgetbox(add,assemble,clear)\n",
    "    \n",
    "    l = layout([box0,box01,box1,box2,box3],table)\n",
    "    doc.add_root(l)\n",
    "    \n",
    "show(modify_doc)"
   ]
  },
  {
   "cell_type": "markdown",
   "metadata": {},
   "source": [
    "# Processed data"
   ]
  },
  {
   "cell_type": "code",
   "execution_count": 13,
   "metadata": {},
   "outputs": [
    {
     "data": {
      "text/plain": [
       "{'material': ['SiO2_300nm', 'SiO2_300nm'],\n",
       " 'thickness': ['30', '30'],\n",
       " 'mu': ['/', '/'],\n",
       " 'gamma': ['/', '/']}"
      ]
     },
     "execution_count": 13,
     "metadata": {},
     "output_type": "execute_result"
    }
   ],
   "source": [
    "tabulatedData"
   ]
  },
  {
   "cell_type": "code",
   "execution_count": 31,
   "metadata": {},
   "outputs": [
    {
     "data": {
      "text/plain": [
       "[('SiO2_300nm', 30.0)]"
      ]
     },
     "execution_count": 31,
     "metadata": {},
     "output_type": "execute_result"
    }
   ],
   "source": [
    "layerList"
   ]
  },
  {
   "cell_type": "code",
   "execution_count": 16,
   "metadata": {},
   "outputs": [
    {
     "data": {
      "text/plain": [
       "[(<NearFieldOptics.Materials.material_types.IsotropicMaterial at 0x10dcf4e80>,\n",
       "  3e-06),\n",
       " (<NearFieldOptics.Materials.material_types.IsotropicMaterial at 0x10dcf4e80>,\n",
       "  3e-06)]"
      ]
     },
     "execution_count": 16,
     "metadata": {},
     "output_type": "execute_result"
    }
   ],
   "source": [
    "computerLayerList"
   ]
  },
  {
   "cell_type": "code",
   "execution_count": null,
   "metadata": {
    "scrolled": true
   },
   "outputs": [],
   "source": [
    "LM = LayeredMediaTM(layerArrayGUIInput = computerLayerList, entrance=entranceMaterial,exit=exitMaterial)"
   ]
  },
  {
   "cell_type": "code",
   "execution_count": null,
   "metadata": {},
   "outputs": [],
   "source": []
  }
 ],
 "metadata": {
  "hide_input": false,
  "kernelspec": {
   "display_name": "Python 3",
   "language": "python",
   "name": "python3"
  },
  "language_info": {
   "codemirror_mode": {
    "name": "ipython",
    "version": 3
   },
   "file_extension": ".py",
   "mimetype": "text/x-python",
   "name": "python",
   "nbconvert_exporter": "python",
   "pygments_lexer": "ipython3",
   "version": "3.6.5"
  },
  "latex_envs": {
   "LaTeX_envs_menu_present": true,
   "autoclose": false,
   "autocomplete": true,
   "bibliofile": "biblio.bib",
   "cite_by": "apalike",
   "current_citInitial": 1,
   "eqLabelWithNumbers": true,
   "eqNumInitial": 1,
   "hotkeys": {
    "equation": "Ctrl-E",
    "itemize": "Ctrl-I"
   },
   "labels_anchors": false,
   "latex_user_defs": false,
   "report_style_numbering": false,
   "user_envs_cfg": false
  },
  "toc": {
   "base_numbering": 1,
   "nav_menu": {},
   "number_sections": false,
   "sideBar": true,
   "skip_h1_title": false,
   "title_cell": "Table of Contents",
   "title_sidebar": "Contents",
   "toc_cell": true,
   "toc_position": {
    "height": "calc(100% - 180px)",
    "left": "10px",
    "top": "150px",
    "width": "288px"
   },
   "toc_section_display": true,
   "toc_window_display": true
  }
 },
 "nbformat": 4,
 "nbformat_minor": 2
}
